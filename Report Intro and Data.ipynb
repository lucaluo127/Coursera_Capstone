{
 "cells": [
  {
   "cell_type": "markdown",
   "metadata": {},
   "source": [
    "# Final Assignment - Data Sciences\n",
    "\n",
    "## Introduction\n",
    "\n",
    "This report will mainly address the question that is there any relationship between borough's average income and the number of venues in Toronoto.\n",
    "\n",
    "## Data\n",
    "\n",
    "The data of this report came from mainly two sources, the Foursquare Data Platform, offering the geographic data and the number of venues within a borough, and the average income data is directly from the website of City of Toronto, https://www.toronto.ca/city-government/data-research-maps/open-data/"
   ]
  }
 ],
 "metadata": {
  "kernelspec": {
   "display_name": "Python 3",
   "language": "python",
   "name": "python3"
  },
  "language_info": {
   "codemirror_mode": {
    "name": "ipython",
    "version": 3
   },
   "file_extension": ".py",
   "mimetype": "text/x-python",
   "name": "python",
   "nbconvert_exporter": "python",
   "pygments_lexer": "ipython3",
   "version": "3.6.7"
  }
 },
 "nbformat": 4,
 "nbformat_minor": 2
}
